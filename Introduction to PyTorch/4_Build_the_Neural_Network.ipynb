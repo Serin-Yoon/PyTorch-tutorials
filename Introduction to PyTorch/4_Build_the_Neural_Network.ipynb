{
  "nbformat": 4,
  "nbformat_minor": 0,
  "metadata": {
    "colab": {
      "provenance": []
    },
    "kernelspec": {
      "name": "python3",
      "display_name": "Python 3"
    },
    "language_info": {
      "name": "python"
    },
    "accelerator": "GPU",
    "gpuClass": "standard"
  },
  "cells": [
    {
      "cell_type": "markdown",
      "source": [
        "- NN comprises of **layers(modules)** that perform operations on data\n",
        "- `torch.nn`: provides all the components you need to build NN"
      ],
      "metadata": {
        "id": "IKPLU64JM8OO"
      }
    },
    {
      "cell_type": "code",
      "source": [
        "import os\n",
        "import torch\n",
        "from torch import nn\n",
        "from torch.utils.data import DataLoader\n",
        "from torchvision import datasets, transforms"
      ],
      "metadata": {
        "id": "VT6hethkN7J5"
      },
      "execution_count": null,
      "outputs": []
    },
    {
      "cell_type": "markdown",
      "source": [
        "**Get Device for Training**"
      ],
      "metadata": {
        "id": "r1YXmDWDOA4B"
      }
    },
    {
      "cell_type": "code",
      "source": [
        "device = \"cuda\" if torch.cuda.is_available() else \"cpu\"\n",
        "print(f\"Using {device} device\")"
      ],
      "metadata": {
        "colab": {
          "base_uri": "https://localhost:8080/"
        },
        "id": "qlPBipDnReOK",
        "outputId": "17f2f4d4-98f9-429f-b71d-b01a660e7ca7"
      },
      "execution_count": null,
      "outputs": [
        {
          "output_type": "stream",
          "name": "stdout",
          "text": [
            "Using cuda device\n"
          ]
        }
      ]
    },
    {
      "cell_type": "markdown",
      "source": [
        "**Define the Class**\n",
        "- define NN by subclassing `nn.Module`, and initialize NN layers in `__init__`\n",
        "- every `nn.Module` subclass implents the operations on input data in the `forward` method"
      ],
      "metadata": {
        "id": "STIVGN06RvvH"
      }
    },
    {
      "cell_type": "code",
      "source": [
        "class NeuralNetwork(nn.Module):\n",
        "  def __init__(self):\n",
        "    super(NeuralNetwork, self).__init__()\n",
        "    self.flatten = nn.Flatten()\n",
        "    self.linear_relu_stack = nn.Sequential(\n",
        "        nn.Linear(28*28, 512),\n",
        "        nn.ReLU(),\n",
        "        nn.Linear(512, 512),\n",
        "        nn.ReLU(),\n",
        "        nn.Linear(512, 10),\n",
        "    )\n",
        "  \n",
        "  def forward(self, x):\n",
        "    x = self.flatten(x)\n",
        "    logits = self.linear_relu_stack(x)\n",
        "    return logits"
      ],
      "metadata": {
        "id": "KeuKjdrmR6qN"
      },
      "execution_count": null,
      "outputs": []
    },
    {
      "cell_type": "markdown",
      "source": [
        "- create an instance of `NeuralNetwork`, move it to the `device`, and print its structure"
      ],
      "metadata": {
        "id": "S0v0RRHvTcMX"
      }
    },
    {
      "cell_type": "code",
      "source": [
        "model = NeuralNetwork().to(device)\n",
        "print(model)"
      ],
      "metadata": {
        "colab": {
          "base_uri": "https://localhost:8080/"
        },
        "id": "rU4qq9wqTefx",
        "outputId": "9ae25cf9-370b-4af8-c51d-430be9953ebf"
      },
      "execution_count": null,
      "outputs": [
        {
          "output_type": "stream",
          "name": "stdout",
          "text": [
            "NeuralNetwork(\n",
            "  (flatten): Flatten(start_dim=1, end_dim=-1)\n",
            "  (linear_relu_stack): Sequential(\n",
            "    (0): Linear(in_features=784, out_features=512, bias=True)\n",
            "    (1): ReLU()\n",
            "    (2): Linear(in_features=512, out_features=512, bias=True)\n",
            "    (3): ReLU()\n",
            "    (4): Linear(in_features=512, out_features=10, bias=True)\n",
            "  )\n",
            ")\n"
          ]
        }
      ]
    },
    {
      "cell_type": "markdown",
      "source": [
        "- pass the input data to use the model\n",
        "- executes the model's `forward', along with some background operations\n",
        "- do not call `model.forward()` directly!\n",
        "\n",
        "- calling the model on the input returns a 2D tensor with dim=0 corresponding to each output of 10 **raw predicted values** for each **class**, and dim=1 corresponding to the individual values of each output\n",
        "- we get the **prediction probabilities** by passing the **raw predicted values** through an instance of `nn.Softmax` module"
      ],
      "metadata": {
        "id": "Xm2ZAJ_3T9kj"
      }
    },
    {
      "cell_type": "code",
      "source": [
        "X = torch.rand(1, 28, 28, device=device)\n",
        "logits = model(X)\n",
        "pred_probab = nn.Softmax(dim=1)(logits)\n",
        "y_pred = pred_probab.argmax(1)\n",
        "print(f\"Predicted class: {y_pred}\")"
      ],
      "metadata": {
        "colab": {
          "base_uri": "https://localhost:8080/"
        },
        "id": "26BBhkDNUQqd",
        "outputId": "a07156a9-90d7-473c-d619-fc1f9e7b201e"
      },
      "execution_count": null,
      "outputs": [
        {
          "output_type": "stream",
          "name": "stdout",
          "text": [
            "Predicted class: tensor([2], device='cuda:0')\n"
          ]
        }
      ]
    },
    {
      "cell_type": "markdown",
      "source": [
        "**Model Layers**\n",
        "- FashionMNIST model\n",
        "  - take a sample minibatch of 3 images of size 28x28"
      ],
      "metadata": {
        "id": "zCYQvOc5VCed"
      }
    },
    {
      "cell_type": "code",
      "source": [
        "input_image = torch.rand(3, 28, 28)\n",
        "print(input_image.size())"
      ],
      "metadata": {
        "colab": {
          "base_uri": "https://localhost:8080/"
        },
        "id": "fYrtiS2cVB2L",
        "outputId": "e37ab629-b72b-4633-f0be-bd53e26db5d6"
      },
      "execution_count": null,
      "outputs": [
        {
          "output_type": "stream",
          "name": "stdout",
          "text": [
            "torch.Size([3, 28, 28])\n"
          ]
        }
      ]
    },
    {
      "cell_type": "markdown",
      "source": [
        "**nn.Flatten**\n",
        "- initialize the `nn.Flatten` layer to convert each 2D 28x28 image into a contiguous array of 784 pixel values\n",
        "- (minibatch dimension is maintained)"
      ],
      "metadata": {
        "id": "6TAyPq5ZYZJh"
      }
    },
    {
      "cell_type": "code",
      "source": [
        "flatten = nn.Flatten()\n",
        "flat_image = flatten(input_image)\n",
        "print(flat_image.size())"
      ],
      "metadata": {
        "colab": {
          "base_uri": "https://localhost:8080/"
        },
        "id": "yC4ofVyyYjp3",
        "outputId": "7c2ce014-1f54-4b85-e3fe-95980056a5dc"
      },
      "execution_count": null,
      "outputs": [
        {
          "output_type": "stream",
          "name": "stdout",
          "text": [
            "torch.Size([3, 784])\n"
          ]
        }
      ]
    },
    {
      "cell_type": "markdown",
      "source": [
        "**nn.Linear**\n",
        "- linear layer is a module that applies a linear transformation on the input using its stored weights and biases (Wx + b)"
      ],
      "metadata": {
        "id": "mv0UR2lZYubZ"
      }
    },
    {
      "cell_type": "code",
      "source": [
        "layer1 = nn.Linear(in_features=28*28, out_features=20)\n",
        "hidden1 = layer1(flat_image)\n",
        "print(hidden1.size())"
      ],
      "metadata": {
        "colab": {
          "base_uri": "https://localhost:8080/"
        },
        "id": "hm7KZQenY0Hp",
        "outputId": "494a4004-254a-4f6c-814b-6a50c78706ea"
      },
      "execution_count": null,
      "outputs": [
        {
          "output_type": "stream",
          "name": "stdout",
          "text": [
            "torch.Size([3, 20])\n"
          ]
        }
      ]
    },
    {
      "cell_type": "markdown",
      "source": [
        "**nn.ReLU**\n",
        "- non-linear activations are what create the complex mappings between the model's inputs and outputs\n",
        "- they are applied after linear transformations to introduce nonlinearity, helping NN learn a wide variety of phenomena"
      ],
      "metadata": {
        "id": "PjrFows5ZplI"
      }
    },
    {
      "cell_type": "code",
      "source": [
        "print(f\"Before ReLU: {hidden1}\\n\\n\")\n",
        "hidden1 = nn.ReLU()(hidden1)\n",
        "print(f\"After ReLU: {hidden1}\")"
      ],
      "metadata": {
        "colab": {
          "base_uri": "https://localhost:8080/"
        },
        "id": "JHo5rDN9aAUG",
        "outputId": "836bb5a5-2198-44e9-83f9-9c1ca0d070ed"
      },
      "execution_count": null,
      "outputs": [
        {
          "output_type": "stream",
          "name": "stdout",
          "text": [
            "Before ReLU: tensor([[-0.4709, -0.2810, -0.0382,  0.0285,  0.2996,  0.7960,  0.8344, -0.0950,\n",
            "         -0.1476, -0.3799,  0.5232, -0.2065, -0.2733,  0.1762,  0.0556,  0.2360,\n",
            "          0.1595, -0.2812,  0.2850, -0.0589],\n",
            "        [-0.0461,  0.0861, -0.3667, -0.1153,  0.7376,  0.6836,  0.8744,  0.0334,\n",
            "         -0.3473, -0.4491,  0.7331, -0.1406,  0.3271,  0.3025,  0.0689,  0.2456,\n",
            "         -0.0961,  0.1034, -0.0709, -0.2043],\n",
            "        [-0.2598,  0.1525,  0.1525, -0.2377,  0.4515,  0.5143,  0.4914,  0.3224,\n",
            "          0.0148, -0.1914,  0.3541,  0.3023, -0.1461,  0.1104,  0.3134,  0.1959,\n",
            "          0.0607, -0.1917,  0.2439, -0.1998]], grad_fn=<AddmmBackward0>)\n",
            "\n",
            "\n",
            "After ReLU: tensor([[0.0000, 0.0000, 0.0000, 0.0285, 0.2996, 0.7960, 0.8344, 0.0000, 0.0000,\n",
            "         0.0000, 0.5232, 0.0000, 0.0000, 0.1762, 0.0556, 0.2360, 0.1595, 0.0000,\n",
            "         0.2850, 0.0000],\n",
            "        [0.0000, 0.0861, 0.0000, 0.0000, 0.7376, 0.6836, 0.8744, 0.0334, 0.0000,\n",
            "         0.0000, 0.7331, 0.0000, 0.3271, 0.3025, 0.0689, 0.2456, 0.0000, 0.1034,\n",
            "         0.0000, 0.0000],\n",
            "        [0.0000, 0.1525, 0.1525, 0.0000, 0.4515, 0.5143, 0.4914, 0.3224, 0.0148,\n",
            "         0.0000, 0.3541, 0.3023, 0.0000, 0.1104, 0.3134, 0.1959, 0.0607, 0.0000,\n",
            "         0.2439, 0.0000]], grad_fn=<ReluBackward0>)\n"
          ]
        }
      ]
    },
    {
      "cell_type": "markdown",
      "source": [
        "**nn.Sequential**\n",
        "- an ordered container of modules\n",
        "- the data is passed through all the modules in the same order as defined\n",
        "- we can use sequential containers to put together a quick network like `seq_modules`"
      ],
      "metadata": {
        "id": "D4dia8yfaW7c"
      }
    },
    {
      "cell_type": "code",
      "source": [
        "seq_modules = nn.Sequential(\n",
        "    flatten,\n",
        "    layer1,\n",
        "    nn.ReLU(),\n",
        "    nn.Linear(20, 10),\n",
        ")\n",
        "input_image = torch.rand(3, 28, 28)\n",
        "logits = seq_modules(input_image)"
      ],
      "metadata": {
        "id": "DVLHTgU2apZa"
      },
      "execution_count": null,
      "outputs": []
    },
    {
      "cell_type": "markdown",
      "source": [
        "**nn.Softmax**\n",
        "- the last linear layer of NN returns logits(raw values in [-INF, INF])\n",
        "- logits are passed to `nn.Softmax` module\n",
        "- logits are scaled to values [0, 1] representing the model's predicted probabilities for each class\n",
        "- `dim` parameter indicates the dimension along which the values must sum to 1"
      ],
      "metadata": {
        "id": "9RUA_L8ua8hx"
      }
    },
    {
      "cell_type": "code",
      "source": [
        "softmax = nn.Softmax(dim=1)\n",
        "pred_probab = softmax(logits)"
      ],
      "metadata": {
        "id": "sFRs_RKDbgn8"
      },
      "execution_count": null,
      "outputs": []
    },
    {
      "cell_type": "markdown",
      "source": [
        "**Model Parameters**\n",
        "- many layers inside NN are parameterized (매개변수화)\n",
        "- i.e., weights, biases that are optimized during training\n",
        "- subclassing `nn.Module` automatically tracks all fields defined inside the model, and makes all parameters accessible using the model's `parameters()` or `named_parameters()` methods"
      ],
      "metadata": {
        "id": "vNvE_PTfboxc"
      }
    },
    {
      "cell_type": "code",
      "source": [
        "# iterate over each parameter, and print its size and a preview of its values\n",
        "print(f\"Model structure: {model}\\n\\n\")\n",
        "\n",
        "for name, param in model.named_parameters():\n",
        "  print(f\"Layer: {name} | Size: {param.size()} | Values : {param[:2]} \\n\")"
      ],
      "metadata": {
        "colab": {
          "base_uri": "https://localhost:8080/"
        },
        "id": "U5K1mfkxd3Xa",
        "outputId": "607bd66e-79a9-46df-ebc9-8c894e852f94"
      },
      "execution_count": null,
      "outputs": [
        {
          "output_type": "stream",
          "name": "stdout",
          "text": [
            "Model structure: NeuralNetwork(\n",
            "  (flatten): Flatten(start_dim=1, end_dim=-1)\n",
            "  (linear_relu_stack): Sequential(\n",
            "    (0): Linear(in_features=784, out_features=512, bias=True)\n",
            "    (1): ReLU()\n",
            "    (2): Linear(in_features=512, out_features=512, bias=True)\n",
            "    (3): ReLU()\n",
            "    (4): Linear(in_features=512, out_features=10, bias=True)\n",
            "  )\n",
            ")\n",
            "\n",
            "\n",
            "Layer: linear_relu_stack.0.weight | Size: torch.Size([512, 784]) | Values : tensor([[-0.0165,  0.0106, -0.0211,  ..., -0.0112,  0.0094,  0.0024],\n",
            "        [-0.0269, -0.0344, -0.0025,  ..., -0.0006, -0.0063,  0.0097]],\n",
            "       device='cuda:0', grad_fn=<SliceBackward0>) \n",
            "\n",
            "Layer: linear_relu_stack.0.bias | Size: torch.Size([512]) | Values : tensor([-0.0255,  0.0211], device='cuda:0', grad_fn=<SliceBackward0>) \n",
            "\n",
            "Layer: linear_relu_stack.2.weight | Size: torch.Size([512, 512]) | Values : tensor([[ 0.0305, -0.0117, -0.0205,  ...,  0.0115, -0.0010, -0.0183],\n",
            "        [-0.0293,  0.0373, -0.0172,  ..., -0.0372,  0.0436,  0.0084]],\n",
            "       device='cuda:0', grad_fn=<SliceBackward0>) \n",
            "\n",
            "Layer: linear_relu_stack.2.bias | Size: torch.Size([512]) | Values : tensor([-0.0433,  0.0311], device='cuda:0', grad_fn=<SliceBackward0>) \n",
            "\n",
            "Layer: linear_relu_stack.4.weight | Size: torch.Size([10, 512]) | Values : tensor([[-0.0385,  0.0191, -0.0170,  ..., -0.0306,  0.0212, -0.0270],\n",
            "        [ 0.0189, -0.0364,  0.0367,  ..., -0.0147,  0.0034, -0.0011]],\n",
            "       device='cuda:0', grad_fn=<SliceBackward0>) \n",
            "\n",
            "Layer: linear_relu_stack.4.bias | Size: torch.Size([10]) | Values : tensor([0.0309, 0.0012], device='cuda:0', grad_fn=<SliceBackward0>) \n",
            "\n"
          ]
        }
      ]
    }
  ]
}