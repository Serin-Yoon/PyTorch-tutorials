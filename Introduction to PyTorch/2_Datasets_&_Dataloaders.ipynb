{
  "nbformat": 4,
  "nbformat_minor": 0,
  "metadata": {
    "colab": {
      "provenance": []
    },
    "kernelspec": {
      "name": "python3",
      "display_name": "Python 3"
    },
    "language_info": {
      "name": "python"
    }
  },
  "cells": [
    {
      "cell_type": "markdown",
      "source": [
        "- PyTorch provides 2 data primitives: `torch.utils.data.DataLoader`, `torch.utils.data.Dataset`\n",
        "- Use pre-loaded datsets as well as my own data.\n",
        "- `Dataset` stores the samples and labels, and `DataLoader` wraps an iterable around the `Dataset` to enable easy access to the samples.\n",
        "- Image Datasets: https://pytorch.org/vision/stable/datasets.html\n",
        "- Text Datasets: https://pytorch.org/text/stable/datasets.html\n",
        "- Audio Datasets: https://pytorch.org/audio/stable/datasets.html"
      ],
      "metadata": {
        "id": "gv-bEpyAknGj"
      }
    },
    {
      "cell_type": "markdown",
      "source": [
        "**Loading a Dataset: Fashion-MNIST**\n",
        "- Dataset of Zalando's article images consisting of 60,000 training examples & 10,000 test examples.\n",
        "- Each example comprises a 28x28 grayscale image and an associated label from one of 10 classes.\n",
        "- `root`: path where the train/test data is stored\n",
        "- `train`: specifies training or test data\n",
        "- `download=True`: downloads the data from the internet if it's not available at `root`\n",
        "- `transform`, `target_transform`: specify the feature and label transformations"
      ],
      "metadata": {
        "id": "dmPIzMZVl3eV"
      }
    },
    {
      "cell_type": "code",
      "source": [
        "import torch\n",
        "from torch.utils.data import Dataset\n",
        "from torchvision import datasets\n",
        "from torchvision.transforms import ToTensor\n",
        "import matplotlib.pyplot as plt\n",
        "\n",
        "training_data = datasets.FashionMNIST(\n",
        "    root=\"data\",\n",
        "    train=True,\n",
        "    download=True,\n",
        "    transform=ToTensor()\n",
        ")\n",
        "\n",
        "test_data = datasets.FashionMNIST(\n",
        "    root=\"data\",\n",
        "    train=False,\n",
        "    download=True,\n",
        "    transform=ToTensor()\n",
        ")"
      ],
      "metadata": {
        "id": "uyWgTtI4l4uf"
      },
      "execution_count": null,
      "outputs": []
    },
    {
      "cell_type": "markdown",
      "source": [
        "**Iterating and Visualizing the Dataset**\n",
        "- We can index `Datasets` manually like a list: `training_data[index]`\n",
        "- Use `matplotlib` to visualize some samples in our training data."
      ],
      "metadata": {
        "id": "XAneGg6WoqPL"
      }
    },
    {
      "cell_type": "code",
      "source": [
        "labels_map = {\n",
        "    0: \"T-Shirt\",\n",
        "    1: \"Trouser\",\n",
        "    2: \"Pullover\",\n",
        "    3: \"Dress\",\n",
        "    4: \"Coat\",\n",
        "    5: \"Sandal\",\n",
        "    6: \"Shirt\",\n",
        "    7: \"Sneaker\",\n",
        "    8: \"Bag\",\n",
        "    9: \"Ankle Boot\",\n",
        "}\n",
        "figure = plt.figure(figsize=(8, 8))\n",
        "cols, rows = 3, 3\n",
        "\n",
        "# 랜덤으로 9개 뽑아서 보기\n",
        "for i in range(1, cols * rows + 1):\n",
        "  sample_idx = torch.randint(len(training_data), size=(1,)).item()\n",
        "  img, label = training_data[sample_idx]\n",
        "  figure.add_subplot(rows, cols, i)\n",
        "  plt.title(labels_map[label])\n",
        "  plt.axis(\"off\")\n",
        "  plt.imshow(img.squeeze(), cmap=\"gray\")\n",
        "plt.show()"
      ],
      "metadata": {
        "colab": {
          "base_uri": "https://localhost:8080/",
          "height": 482
        },
        "id": "ZCcunoENo20Z",
        "outputId": "afd8b596-266c-4923-8d79-ab0b926ae9b5"
      },
      "execution_count": null,
      "outputs": [
        {
          "output_type": "display_data",
          "data": {
            "text/plain": [
              "<Figure size 576x576 with 9 Axes>"
            ],
            "image/png": "[encoded data removed]"
          },
          "metadata": {
            "needs_background": "light"
          }
        }
      ]
    },
    {
      "cell_type": "markdown",
      "source": [
        "**Creating a Custom Dataset for your files**\n",
        "- Custom Datset class must implement 3 functions: `__init__`, `__len__`, `__getitem__`\n",
        "- FashionMNIST images are stored in a directory `img_dir`, and their labels are stored separately in a CSV file `annotations_file`"
      ],
      "metadata": {
        "id": "vu7fax1-qPVS"
      }
    },
    {
      "cell_type": "code",
      "source": [
        "import os\n",
        "import pandas as pd\n",
        "from torchvision.io import read_image\n",
        "\n",
        "class CustomImageDataset(Dataset):\n",
        "  \n",
        "  # Runs once when instantiating the Dataset object\n",
        "  # Initialize the directory containing the images, the annotations file, and both transforms\n",
        "  def __init__(self, annotations_file, img_dir, transform=None, target_transform=None):\n",
        "    self.img_labels = pd.read_csv(annotations_file)\n",
        "    self.img_dir = img_dir\n",
        "    self.transform = transform\n",
        "    self.target_transform = target_transform\n",
        "  \n",
        "  # Returns the number of samples in our dataset\n",
        "  def __len__(self):\n",
        "    return len(self.img_labels)\n",
        "\n",
        "  # Loads and returns a sample from the dataset at the given index\n",
        "  def __getitem__(self, idx):\n",
        "    # identifies the image's location on disk\n",
        "    img_path = os.path.join(self.img_dir, self.img_labels.iloc[idx, 0])\n",
        "    # converts the image to a tensor\n",
        "    image = read_image(img_path)\n",
        "    # retrieves the corresponding label from the csv data\n",
        "    label = self.img_labels.iloc[idx, 1]\n",
        "    # calls the transform func on them (if applicable)\n",
        "    if self.transform:\n",
        "      image = self.transform(image)\n",
        "    if self.target_transform:\n",
        "      label = self.target_transform(label)\n",
        "    # returns the tensor image and corresponding label in a tuple\n",
        "    return image, label"
      ],
      "metadata": {
        "id": "iy6MqWgJrb1R"
      },
      "execution_count": null,
      "outputs": []
    },
    {
      "cell_type": "markdown",
      "source": [
        "**Preparing data for training with DataLoaders**\n",
        "- `Dataset`: retrieves the dataset's features, and labels one sample at a time\n",
        "- While training, we want to pass samples in 'minibatches', reshuffle the data at every epoch to reduce overfitting, and use Python's `multiprocessing` to speed up data retrieval.\n",
        "- `DataLoader`: iterable that abstracts this complexity for us in an easy API"
      ],
      "metadata": {
        "id": "LxNZEj43uUEB"
      }
    },
    {
      "cell_type": "code",
      "source": [
        "from torch.utils.data import DataLoader\n",
        "\n",
        "train_dataloader = DataLoader(training_data, batch_size=64, shuffle=True)\n",
        "test_dataloader = DataLoader(test_data, batch_size=64, shuffle=True)"
      ],
      "metadata": {
        "id": "HidaefjSuTQm"
      },
      "execution_count": null,
      "outputs": []
    },
    {
      "cell_type": "markdown",
      "source": [
        "**Iterate through the DataLoader**\n",
        "- After loading the dataset into the `DataLoader`, we can iterate through the dataset\n",
        "- Each iteration returns a batch of `train_features` and `train_labels`\n",
        "- `shuffle=True` -> after we iterate over all batches, the data is shuffled"
      ],
      "metadata": {
        "id": "4MpMvy7Xx4n_"
      }
    },
    {
      "cell_type": "code",
      "source": [
        "# Display image and label\n",
        "train_features, train_labels = next(iter(train_dataloader))\n",
        "print(f\"Feature batch shape: {train_features.size()}\")\n",
        "print(f\"Labels batch shape: {train_labels.size()}\")\n",
        "img = train_features[0].squeeze() # [1, 28, 28] -> [28, 28]\n",
        "label = train_labels[0]\n",
        "plt.imshow(img, cmap=\"gray\")\n",
        "plt.show()\n",
        "print(f\"Label: {label}\")"
      ],
      "metadata": {
        "colab": {
          "base_uri": "https://localhost:8080/",
          "height": 320
        },
        "id": "xShKJJA6yL-2",
        "outputId": "479deebd-8b14-4a97-efbb-cb950e4f0ed7"
      },
      "execution_count": null,
      "outputs": [
        {
          "output_type": "stream",
          "name": "stdout",
          "text": [
            "Feature batch shape: torch.Size([64, 1, 28, 28])\n",
            "Labels batch shape: torch.Size([64])\n"
          ]
        },
        {
          "output_type": "display_data",
          "data": {
            "text/plain": [
              "<Figure size 432x288 with 1 Axes>"
            ],
            "image/png": "[encoded data removed]"
          },
          "metadata": {
            "needs_background": "light"
          }
        },
        {
          "output_type": "stream",
          "name": "stdout",
          "text": [
            "Label: 4\n"
          ]
        }
      ]
    }
  ]
}