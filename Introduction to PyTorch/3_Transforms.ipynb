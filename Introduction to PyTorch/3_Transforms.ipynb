{
  "nbformat": 4,
  "nbformat_minor": 0,
  "metadata": {
    "colab": {
      "provenance": []
    },
    "kernelspec": {
      "name": "python3",
      "display_name": "Python 3"
    },
    "language_info": {
      "name": "python"
    }
  },
  "cells": [
    {
      "cell_type": "markdown",
      "source": [
        "- Data does not always come in its final process form that is required for training ML algorithms\n",
        "- We use **transforms** to perform some manipulation of the data and make it suitable for training\n",
        "- TorchVision datasets have 2 parameters:\n",
        "  - `transform`: modify the features\n",
        "  - `target_transform`: modify the labels\n",
        "- https://pytorch.org/vision/stable/transforms.html\n",
        "- FashionMNIST\n",
        "  - Features: PIL image format\n",
        "  - Lables: integers\n",
        "  - For training, we need the **features** as normalized tensors, and the **labels** as one-hot encoded tensors.\n",
        "  - For this, we use `ToTensor`, `Lambda`"
      ],
      "metadata": {
        "id": "67lZ0Dwc5Flf"
      }
    },
    {
      "cell_type": "code",
      "source": [
        "import torch\n",
        "from torchvision import datasets\n",
        "from torchvision.transforms import ToTensor, Lambda\n",
        "\n",
        "ds = datasets.FashionMNIST(\n",
        "    root=\"data\",\n",
        "    train=True,\n",
        "    download=True,\n",
        "    transform=ToTensor(),\n",
        "    target_transform=Lambda(lambda y: torch.zeros(10, dtype=torch.float).scatter_(0, torch.tensor(y), value=1))\n",
        ")"
      ],
      "metadata": {
        "id": "lutOWk5F5PFG"
      },
      "execution_count": null,
      "outputs": []
    },
    {
      "cell_type": "markdown",
      "source": [
        "**ToTensor()**\n",
        "- converts a PIL image or NumPy `ndarray` into `FloatTensor`\n",
        "- scales the image's pixel intensity values in range [0, 1]"
      ],
      "metadata": {
        "id": "4Wkt0JKIJw_w"
      }
    },
    {
      "cell_type": "markdown",
      "source": [
        "**Lambda Transforms**\n",
        "- apply any user-defined lambda function (ex. integer to one-hot encoded tensor)"
      ],
      "metadata": {
        "id": "9llby1XfLHmC"
      }
    }
  ]
}