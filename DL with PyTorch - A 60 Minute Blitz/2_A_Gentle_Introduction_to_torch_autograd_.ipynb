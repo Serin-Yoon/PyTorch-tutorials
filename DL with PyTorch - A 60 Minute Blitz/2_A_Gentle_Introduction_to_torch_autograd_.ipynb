{
  "nbformat": 4,
  "nbformat_minor": 0,
  "metadata": {
    "colab": {
      "provenance": []
    },
    "kernelspec": {
      "name": "python3",
      "display_name": "Python 3"
    },
    "language_info": {
      "name": "python"
    },
    "widgets": {
      "application/vnd.jupyter.widget-state+json": {
        "6b4380ba96194b91bf6d80301c55f613": {
          "model_module": "@jupyter-widgets/controls",
          "model_name": "HBoxModel",
          "model_module_version": "1.5.0",
          "state": {
            "_dom_classes": [],
            "_model_module": "@jupyter-widgets/controls",
            "_model_module_version": "1.5.0",
            "_model_name": "HBoxModel",
            "_view_count": null,
            "_view_module": "@jupyter-widgets/controls",
            "_view_module_version": "1.5.0",
            "_view_name": "HBoxView",
            "box_style": "",
            "children": [
              "IPY_MODEL_764c5abaad354af594a3736d8321ce80",
              "IPY_MODEL_1f5cbfc365874209b6aae8242b9b4a22",
              "IPY_MODEL_4aa36aa096bf4480a75e2c022bf4c439"
            ],
            "layout": "IPY_MODEL_4cdecd154beb49e095f732f786703df4"
          }
        },
        "764c5abaad354af594a3736d8321ce80": {
          "model_module": "@jupyter-widgets/controls",
          "model_name": "HTMLModel",
          "model_module_version": "1.5.0",
          "state": {
            "_dom_classes": [],
            "_model_module": "@jupyter-widgets/controls",
            "_model_module_version": "1.5.0",
            "_model_name": "HTMLModel",
            "_view_count": null,
            "_view_module": "@jupyter-widgets/controls",
            "_view_module_version": "1.5.0",
            "_view_name": "HTMLView",
            "description": "",
            "description_tooltip": null,
            "layout": "IPY_MODEL_c2d8d33b52ef43f893d5f413f91327d3",
            "placeholder": "​",
            "style": "IPY_MODEL_05eddf26fa424e1f9e8b64f88ff7fd29",
            "value": "100%"
          }
        },
        "1f5cbfc365874209b6aae8242b9b4a22": {
          "model_module": "@jupyter-widgets/controls",
          "model_name": "FloatProgressModel",
          "model_module_version": "1.5.0",
          "state": {
            "_dom_classes": [],
            "_model_module": "@jupyter-widgets/controls",
            "_model_module_version": "1.5.0",
            "_model_name": "FloatProgressModel",
            "_view_count": null,
            "_view_module": "@jupyter-widgets/controls",
            "_view_module_version": "1.5.0",
            "_view_name": "ProgressView",
            "bar_style": "success",
            "description": "",
            "description_tooltip": null,
            "layout": "IPY_MODEL_7f5c819e2f1748269d6f031b5c75f176",
            "max": 46830571,
            "min": 0,
            "orientation": "horizontal",
            "style": "IPY_MODEL_c714bac27ffa4b90b6702ed4ec74abb2",
            "value": 46830571
          }
        },
        "4aa36aa096bf4480a75e2c022bf4c439": {
          "model_module": "@jupyter-widgets/controls",
          "model_name": "HTMLModel",
          "model_module_version": "1.5.0",
          "state": {
            "_dom_classes": [],
            "_model_module": "@jupyter-widgets/controls",
            "_model_module_version": "1.5.0",
            "_model_name": "HTMLModel",
            "_view_count": null,
            "_view_module": "@jupyter-widgets/controls",
            "_view_module_version": "1.5.0",
            "_view_name": "HTMLView",
            "description": "",
            "description_tooltip": null,
            "layout": "IPY_MODEL_6a26f01a95124df58f9e149e3f50d17a",
            "placeholder": "​",
            "style": "IPY_MODEL_004b7719ec2a4b36b6a6f721191f9495",
            "value": " 44.7M/44.7M [00:00&lt;00:00, 76.4MB/s]"
          }
        },
        "4cdecd154beb49e095f732f786703df4": {
          "model_module": "@jupyter-widgets/base",
          "model_name": "LayoutModel",
          "model_module_version": "1.2.0",
          "state": {
            "_model_module": "@jupyter-widgets/base",
            "_model_module_version": "1.2.0",
            "_model_name": "LayoutModel",
            "_view_count": null,
            "_view_module": "@jupyter-widgets/base",
            "_view_module_version": "1.2.0",
            "_view_name": "LayoutView",
            "align_content": null,
            "align_items": null,
            "align_self": null,
            "border": null,
            "bottom": null,
            "display": null,
            "flex": null,
            "flex_flow": null,
            "grid_area": null,
            "grid_auto_columns": null,
            "grid_auto_flow": null,
            "grid_auto_rows": null,
            "grid_column": null,
            "grid_gap": null,
            "grid_row": null,
            "grid_template_areas": null,
            "grid_template_columns": null,
            "grid_template_rows": null,
            "height": null,
            "justify_content": null,
            "justify_items": null,
            "left": null,
            "margin": null,
            "max_height": null,
            "max_width": null,
            "min_height": null,
            "min_width": null,
            "object_fit": null,
            "object_position": null,
            "order": null,
            "overflow": null,
            "overflow_x": null,
            "overflow_y": null,
            "padding": null,
            "right": null,
            "top": null,
            "visibility": null,
            "width": null
          }
        },
        "c2d8d33b52ef43f893d5f413f91327d3": {
          "model_module": "@jupyter-widgets/base",
          "model_name": "LayoutModel",
          "model_module_version": "1.2.0",
          "state": {
            "_model_module": "@jupyter-widgets/base",
            "_model_module_version": "1.2.0",
            "_model_name": "LayoutModel",
            "_view_count": null,
            "_view_module": "@jupyter-widgets/base",
            "_view_module_version": "1.2.0",
            "_view_name": "LayoutView",
            "align_content": null,
            "align_items": null,
            "align_self": null,
            "border": null,
            "bottom": null,
            "display": null,
            "flex": null,
            "flex_flow": null,
            "grid_area": null,
            "grid_auto_columns": null,
            "grid_auto_flow": null,
            "grid_auto_rows": null,
            "grid_column": null,
            "grid_gap": null,
            "grid_row": null,
            "grid_template_areas": null,
            "grid_template_columns": null,
            "grid_template_rows": null,
            "height": null,
            "justify_content": null,
            "justify_items": null,
            "left": null,
            "margin": null,
            "max_height": null,
            "max_width": null,
            "min_height": null,
            "min_width": null,
            "object_fit": null,
            "object_position": null,
            "order": null,
            "overflow": null,
            "overflow_x": null,
            "overflow_y": null,
            "padding": null,
            "right": null,
            "top": null,
            "visibility": null,
            "width": null
          }
        },
        "05eddf26fa424e1f9e8b64f88ff7fd29": {
          "model_module": "@jupyter-widgets/controls",
          "model_name": "DescriptionStyleModel",
          "model_module_version": "1.5.0",
          "state": {
            "_model_module": "@jupyter-widgets/controls",
            "_model_module_version": "1.5.0",
            "_model_name": "DescriptionStyleModel",
            "_view_count": null,
            "_view_module": "@jupyter-widgets/base",
            "_view_module_version": "1.2.0",
            "_view_name": "StyleView",
            "description_width": ""
          }
        },
        "7f5c819e2f1748269d6f031b5c75f176": {
          "model_module": "@jupyter-widgets/base",
          "model_name": "LayoutModel",
          "model_module_version": "1.2.0",
          "state": {
            "_model_module": "@jupyter-widgets/base",
            "_model_module_version": "1.2.0",
            "_model_name": "LayoutModel",
            "_view_count": null,
            "_view_module": "@jupyter-widgets/base",
            "_view_module_version": "1.2.0",
            "_view_name": "LayoutView",
            "align_content": null,
            "align_items": null,
            "align_self": null,
            "border": null,
            "bottom": null,
            "display": null,
            "flex": null,
            "flex_flow": null,
            "grid_area": null,
            "grid_auto_columns": null,
            "grid_auto_flow": null,
            "grid_auto_rows": null,
            "grid_column": null,
            "grid_gap": null,
            "grid_row": null,
            "grid_template_areas": null,
            "grid_template_columns": null,
            "grid_template_rows": null,
            "height": null,
            "justify_content": null,
            "justify_items": null,
            "left": null,
            "margin": null,
            "max_height": null,
            "max_width": null,
            "min_height": null,
            "min_width": null,
            "object_fit": null,
            "object_position": null,
            "order": null,
            "overflow": null,
            "overflow_x": null,
            "overflow_y": null,
            "padding": null,
            "right": null,
            "top": null,
            "visibility": null,
            "width": null
          }
        },
        "c714bac27ffa4b90b6702ed4ec74abb2": {
          "model_module": "@jupyter-widgets/controls",
          "model_name": "ProgressStyleModel",
          "model_module_version": "1.5.0",
          "state": {
            "_model_module": "@jupyter-widgets/controls",
            "_model_module_version": "1.5.0",
            "_model_name": "ProgressStyleModel",
            "_view_count": null,
            "_view_module": "@jupyter-widgets/base",
            "_view_module_version": "1.2.0",
            "_view_name": "StyleView",
            "bar_color": null,
            "description_width": ""
          }
        },
        "6a26f01a95124df58f9e149e3f50d17a": {
          "model_module": "@jupyter-widgets/base",
          "model_name": "LayoutModel",
          "model_module_version": "1.2.0",
          "state": {
            "_model_module": "@jupyter-widgets/base",
            "_model_module_version": "1.2.0",
            "_model_name": "LayoutModel",
            "_view_count": null,
            "_view_module": "@jupyter-widgets/base",
            "_view_module_version": "1.2.0",
            "_view_name": "LayoutView",
            "align_content": null,
            "align_items": null,
            "align_self": null,
            "border": null,
            "bottom": null,
            "display": null,
            "flex": null,
            "flex_flow": null,
            "grid_area": null,
            "grid_auto_columns": null,
            "grid_auto_flow": null,
            "grid_auto_rows": null,
            "grid_column": null,
            "grid_gap": null,
            "grid_row": null,
            "grid_template_areas": null,
            "grid_template_columns": null,
            "grid_template_rows": null,
            "height": null,
            "justify_content": null,
            "justify_items": null,
            "left": null,
            "margin": null,
            "max_height": null,
            "max_width": null,
            "min_height": null,
            "min_width": null,
            "object_fit": null,
            "object_position": null,
            "order": null,
            "overflow": null,
            "overflow_x": null,
            "overflow_y": null,
            "padding": null,
            "right": null,
            "top": null,
            "visibility": null,
            "width": null
          }
        },
        "004b7719ec2a4b36b6a6f721191f9495": {
          "model_module": "@jupyter-widgets/controls",
          "model_name": "DescriptionStyleModel",
          "model_module_version": "1.5.0",
          "state": {
            "_model_module": "@jupyter-widgets/controls",
            "_model_module_version": "1.5.0",
            "_model_name": "DescriptionStyleModel",
            "_view_count": null,
            "_view_module": "@jupyter-widgets/base",
            "_view_module_version": "1.2.0",
            "_view_name": "StyleView",
            "description_width": ""
          }
        }
      }
    }
  },
  "cells": [
    {
      "cell_type": "markdown",
      "source": [
        "- `torch.autograd`: PyTorch's **automatic differentiation engine** that powers NN training\n",
        "- In this section, we will get a understanding of how **autograd** helps a NN train."
      ],
      "metadata": {
        "id": "k_5j0UnMtsmO"
      }
    },
    {
      "cell_type": "markdown",
      "source": [
        "**Background**\n",
        "- NN: collection of nested **functions** that are executed on some input data (중첩된 함수들의 collection)\n",
        "- Functions are defined by **parameters**(weights, biases, ...), which in PyTorch are stored in **tensors**.\n",
        "- Training a NN happens in 2 steps:\n",
        "1. **Forward Propagation**\n",
        "    - NN makes its best **guess** about the correct output.\n",
        "    - It runs the input data through each of its functions to make this guess.\n",
        "2. **Backward Propagation**\n",
        "  - NN adjusts its parameters proportionate to the **error in its guess**.\n",
        "  - It does this by traversing backwards from the output, collecting the derivatives of the error with respect to the parameters of the functions(**gradients**), and optimizing the parameters using **gradient descent**."
      ],
      "metadata": {
        "id": "lkhcR5RluKCb"
      }
    },
    {
      "cell_type": "markdown",
      "source": [
        "**Usage in PyTorch**\n",
        "- load a pretrained **resnet 18 model** from `torchvision`\n",
        "- create a **random data tensor** (represents a single image with 3 channels, height & width of 64) and its **corresponding label** initialized to some random values\n",
        "- label in pretrained models has shape (1, 1000)"
      ],
      "metadata": {
        "id": "AJO9_EowwAHl"
      }
    },
    {
      "cell_type": "code",
      "execution_count": 1,
      "metadata": {
        "colab": {
          "base_uri": "https://localhost:8080/",
          "height": 67,
          "referenced_widgets": [
            "6b4380ba96194b91bf6d80301c55f613",
            "764c5abaad354af594a3736d8321ce80",
            "1f5cbfc365874209b6aae8242b9b4a22",
            "4aa36aa096bf4480a75e2c022bf4c439",
            "4cdecd154beb49e095f732f786703df4",
            "c2d8d33b52ef43f893d5f413f91327d3",
            "05eddf26fa424e1f9e8b64f88ff7fd29",
            "7f5c819e2f1748269d6f031b5c75f176",
            "c714bac27ffa4b90b6702ed4ec74abb2",
            "6a26f01a95124df58f9e149e3f50d17a",
            "004b7719ec2a4b36b6a6f721191f9495"
          ]
        },
        "id": "7lLXaiBmrhXL",
        "outputId": "34fd2ede-1fa3-4047-ed9f-78d1da144814"
      },
      "outputs": [
        {
          "output_type": "stream",
          "name": "stderr",
          "text": [
            "Downloading: \"https://download.pytorch.org/models/resnet18-f37072fd.pth\" to /root/.cache/torch/hub/checkpoints/resnet18-f37072fd.pth\n"
          ]
        },
        {
          "output_type": "display_data",
          "data": {
            "text/plain": [
              "  0%|          | 0.00/44.7M [00:00<?, ?B/s]"
            ],
            "application/vnd.jupyter.widget-view+json": {
              "version_major": 2,
              "version_minor": 0,
              "model_id": "6b4380ba96194b91bf6d80301c55f613"
            }
          },
          "metadata": {}
        }
      ],
      "source": [
        "import torch\n",
        "from torchvision.models import resnet18, ResNet18_Weights\n",
        "model = resnet18(weights=ResNet18_Weights.DEFAULT)\n",
        "data = torch.rand(1, 3, 64, 64)\n",
        "labels = torch.rand(1, 1000)"
      ]
    },
    {
      "cell_type": "markdown",
      "source": [
        "- **Forward pass**: run the input data through the model through each of its layers to make a prediction"
      ],
      "metadata": {
        "id": "88QskgSYKfeY"
      }
    },
    {
      "cell_type": "code",
      "source": [
        "prediction = model(data) # forward pass"
      ],
      "metadata": {
        "id": "XARCrp8OKmdX"
      },
      "execution_count": 2,
      "outputs": []
    },
    {
      "cell_type": "markdown",
      "source": [
        "- use the model's prediction and the corresponding label to calculate the error (loss)\n",
        "- backpropagate this error through the network\n",
        "- Backward propagation starts when we call `.backward()` on the error tensor\n"
      ],
      "metadata": {
        "id": "QIvtKM5wKotC"
      }
    },
    {
      "cell_type": "code",
      "source": [
        "loss = (prediction - labels).sum()\n",
        "loss.backward() # backward pass"
      ],
      "metadata": {
        "id": "n27rFhN5K_-0"
      },
      "execution_count": 3,
      "outputs": []
    },
    {
      "cell_type": "markdown",
      "source": [
        "- load an optimizer (SGD) with a learning rate of 0.01 and momentum of 0.9\n",
        "- register all the parameters of the model in the optimizer"
      ],
      "metadata": {
        "id": "IwAxosWTLKzc"
      }
    },
    {
      "cell_type": "code",
      "source": [
        "optim = torch.optim.SGD(model.parameters(), lr=1e-2, momentum=0.9)"
      ],
      "metadata": {
        "id": "SoZGIk2JLRdX"
      },
      "execution_count": 4,
      "outputs": []
    },
    {
      "cell_type": "markdown",
      "source": [
        "- call `.step()` to initiate gradient descent\n",
        "- Optimizer adjusts each parameter by its gradient stored in `.grad`"
      ],
      "metadata": {
        "id": "Txb14aTTL8QD"
      }
    },
    {
      "cell_type": "code",
      "source": [
        "optim.step() # gradient descent"
      ],
      "metadata": {
        "id": "yUuPJVSZMIzH"
      },
      "execution_count": 5,
      "outputs": []
    }
  ]
}