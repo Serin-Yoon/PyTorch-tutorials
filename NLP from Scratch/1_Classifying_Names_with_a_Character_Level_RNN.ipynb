{
  "nbformat": 4,
  "nbformat_minor": 0,
  "metadata": {
    "colab": {
      "provenance": []
    },
    "kernelspec": {
      "name": "python3",
      "display_name": "Python 3"
    },
    "language_info": {
      "name": "python"
    }
  },
  "cells": [
    {
      "cell_type": "markdown",
      "source": [
        "- Character-Level RNN은 word를 character의 sequence로 읽어들임\n",
        "- 각 단계의 예측과 hidden state를 출력하고, 다음 단계에 이전 은닉 상태를 전달\n",
        "- 18개의 언어로 된 수천 개의 성(surname)을 훈련시키고, 철자에 따라 이름이 어떤 언어인지 예측\n",
        "- 데이터 다운: https://download.pytorch.org/tutorial/data.zip"
      ],
      "metadata": {
        "id": "iMfRzPunqLVR"
      }
    },
    {
      "cell_type": "markdown",
      "source": [
        "**Preparing the Data**"
      ],
      "metadata": {
        "id": "uQ9o3pBpuNKc"
      }
    },
    {
      "cell_type": "code",
      "source": [
        "from __future__ import unicode_literals, print_function, division\n",
        "from io import open\n",
        "import glob\n",
        "import os\n",
        "\n",
        "def findFiles(path): return glob.glob(path)\n",
        "\n",
        "print('- find files:', findFiles('data/names/*.txt'))\n",
        "\n",
        "import unicodedata\n",
        "import string\n",
        "\n",
        "all_letters = string.ascii_letters + \" .,;\"\n",
        "print(all_letters)\n",
        "\n",
        "# 유니코드 문자열 → ASCII 변환\n",
        "# https://stackoverflow.com/a/518232/2809427\n",
        "def unicodeToAscii(s):\n",
        "  return ''.join(\n",
        "      c for c in unicodedata.normalize('NFD', s)\n",
        "      if unicodedata.category(c) != 'Mn'\n",
        "      and c in all_letters\n",
        "  )\n",
        "\n",
        "print('- unicode to ascii:', unicodeToAscii('Ślusàrski'))\n",
        "\n",
        "# 각 언어의 이름 목록인 category_lines 사전 생성\n",
        "category_lines = {}\n",
        "all_categories = []\n",
        "\n",
        "# 파일 읽고 줄 단위로 분리\n",
        "def readLines(filename):\n",
        "  lines = open(filename, encoding='utf-8').read().strip().split('\\n')\n",
        "  return [unicodeToAscii(line) for line in lines]\n",
        "\n",
        "for filename in findFiles('data/names/*.txt'):\n",
        "  category = os.path.splitext(os.path.basename(filename))[0]\n",
        "  all_categories.append(category)\n",
        "  lines = readLines(filename)\n",
        "  category_lines[category] = lines\n",
        "\n",
        "n_categories = len(all_categories)\n",
        "print('ex) Italian Surnames:', category_lines['Italian'][:5])"
      ],
      "metadata": {
        "colab": {
          "base_uri": "https://localhost:8080/"
        },
        "id": "coTRfdrQrZya",
        "outputId": "615661fa-e8df-4023-b005-0ad292bd4a05"
      },
      "execution_count": 6,
      "outputs": [
        {
          "output_type": "stream",
          "name": "stdout",
          "text": [
            "- find files: ['data/names/Dutch.txt', 'data/names/Russian.txt', 'data/names/German.txt', 'data/names/Japanese.txt', 'data/names/Vietnamese.txt', 'data/names/Polish.txt', 'data/names/French.txt', 'data/names/Scottish.txt', 'data/names/Korean.txt', 'data/names/English.txt', 'data/names/Arabic.txt', 'data/names/Chinese.txt', 'data/names/Italian.txt', 'data/names/Irish.txt', 'data/names/Greek.txt', 'data/names/Spanish.txt', 'data/names/Czech.txt', 'data/names/Portuguese.txt']\n",
            "abcdefghijklmnopqrstuvwxyzABCDEFGHIJKLMNOPQRSTUVWXYZ .,;\n",
            "- unicode to ascii: Slusarski\n",
            "ex) Italian Surnames: ['Abandonato', 'Abatangelo', 'Abatantuono', 'Abate', 'Abategiovanni']\n"
          ]
        }
      ]
    },
    {
      "cell_type": "markdown",
      "source": [
        "**Turning Names into Tensors**\n",
        "- 모든 이름을 체계화 했으므로 이를 활용하기 위해 Tensor로 변환\n",
        "- 하나의 문자를 표현하기 위해, 크기가 `<1 x n_letters>` 인 one-hot vector 사용\n",
        "- One-hot vector example: b = `<0 1 0 0 0 ... >`\n",
        "- 단어를 만들기 위해 one-hot vector들을 2차원 행렬 `<line_length x 1 x n_letters>` 에 결합시킴 (1 = batch 크기)"
      ],
      "metadata": {
        "id": "Fy3lr9Q3uQUi"
      }
    },
    {
      "cell_type": "code",
      "source": [
        "import torch\n",
        "\n",
        "# all_letters로 문자 주소 찾기 (ex. a = 0)\n",
        "def letterToIndex(letter):\n",
        "  return all_letters.find(letter)\n",
        "\n",
        "# 하나의 문자를 <1 x n_letters> Tensor로 변환\n",
        "def letterToTensor(letter):\n",
        "  tensor = torch.zeros(1, n_letters)\n",
        "  tensor[0][letterToIndex(letter)] = 1\n",
        "  return tensor\n",
        "\n",
        "# 한 줄(이름)을 <line_length x 1 x n_letters> 로 변경\n",
        "def lineToTensor(line):\n",
        "  tensor = torch.zeros(len(line), 1, n_letters)\n",
        "  for li, letter in enumerate(line):\n",
        "    tensor[li][0][letterToIndex(letter)] = 1\n",
        "  return tensor\n",
        "\n",
        "print(\"- letter 'J' to tensor:\", letterToTensor('J'))\n",
        "print(\"- name 'Jones' to tensor:\", lineToTensor('Jones').size())"
      ],
      "metadata": {
        "colab": {
          "base_uri": "https://localhost:8080/"
        },
        "id": "bh49f7QHuQEc",
        "outputId": "3f0d89a1-1cff-41ac-9562-777ca51df096"
      },
      "execution_count": 9,
      "outputs": [
        {
          "output_type": "stream",
          "name": "stdout",
          "text": [
            "- letter 'J' to tensor: tensor([[0., 0., 0., 0., 0., 0., 0., 0., 0., 0., 0., 0., 0., 0., 0., 0., 0., 0.,\n",
            "         0., 0., 0., 0., 0., 0., 0., 0., 0., 0., 0., 0., 0., 0., 0., 0., 0., 1.,\n",
            "         0., 0., 0., 0., 0., 0., 0., 0., 0., 0., 0., 0., 0., 0., 0., 0., 0., 0.,\n",
            "         0., 0.]])\n",
            "- name 'Jones' to tensor: torch.Size([5, 1, 56])\n"
          ]
        }
      ]
    },
    {
      "cell_type": "markdown",
      "source": [
        "**Creating Network**\n",
        "- RNN 모듈은 입력 및 은닉 상태로 작동하는 2개의 선형 계층이며, 출력 다음에 LogSoftmax 계층이 있음\n",
        "![image.png](data:image/png;base64,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)"
      ],
      "metadata": {
        "id": "ChiurexYvzJZ"
      }
    },
    {
      "cell_type": "code",
      "source": [
        "import torch.nn as nn\n",
        "\n",
        "class RNN(nn.Module):\n",
        "  def __init__(self, input_size, hidden_size, output_size):\n",
        "    super(RNN, self).__init__()\n",
        "\n",
        "    self.hidden_size = hidden_size\n",
        "\n",
        "    self.i2h = nn.Linear(input_size + hidden_size, hidden_size)\n",
        "    self.i2o = nn.Linear(input_size + hidden_size, output_size)\n",
        "    self.softmax = nn.LogSoftmax(dim=1)\n",
        "  \n",
        "  def forward(self, input, hidden):\n",
        "    combined = torch.cat((input, hidden), 1)\n",
        "    hidden = self.i2h(combined)\n",
        "    output = self.i2o(combined)\n",
        "    output = self.softmax(output)\n",
        "    return output, hidden\n",
        "  \n",
        "  def initHidden(self):\n",
        "    return torch.zeros(1, self.hidden_size)\n",
        "  \n",
        "n_hidden = 128\n",
        "rnn = RNN(n_letters, n_hidden, n_categories)"
      ],
      "metadata": {
        "id": "okW6IWDswMZc"
      },
      "execution_count": 10,
      "outputs": []
    },
    {
      "cell_type": "markdown",
      "source": [
        "- 이 네트워크의 한 단계를 실행하려면 input(현재의 문자 Tensor)과 이전의 hidden state(맨 처음은 0으로 초기화)을 전달해야 함\n",
        "- Output(각 언어의 확률)과 다음 hidden state(다음 단계를 위해 유지)를 돌려받음"
      ],
      "metadata": {
        "id": "-jP7Ujn3_iCG"
      }
    },
    {
      "cell_type": "code",
      "source": [
        "input = letterToTensor('A')\n",
        "hidden = torch.zeros(1, n_hidden)\n",
        "\n",
        "output, next_hidden = rnn(input, hidden)"
      ],
      "metadata": {
        "id": "_Dx5as_s_0Ap"
      },
      "execution_count": 11,
      "outputs": []
    },
    {
      "cell_type": "markdown",
      "source": [
        "- 효율을 위해 매 단계마다 새 Tensor를 만들지 않고, `letterToTensor` 대신 `lineToTensor`를 잘라 사용"
      ],
      "metadata": {
        "id": "gLiVTEQJAAWJ"
      }
    },
    {
      "cell_type": "code",
      "source": [
        "input = lineToTensor('Albert')\n",
        "hidden = torch.zeros(1, n_hidden)\n",
        "\n",
        "output, next_hidden = rnn(input[0], hidden)\n",
        "print(output)"
      ],
      "metadata": {
        "colab": {
          "base_uri": "https://localhost:8080/"
        },
        "id": "pHpP_vwgAFJN",
        "outputId": "46b474f4-df81-4113-8c17-f4212e2fffa9"
      },
      "execution_count": 12,
      "outputs": [
        {
          "output_type": "stream",
          "name": "stdout",
          "text": [
            "tensor([[-2.7700, -2.9557, -2.8447, -2.9383, -2.8801, -2.9594, -2.9237, -2.9557,\n",
            "         -2.8913, -2.9128, -2.8235, -2.9477, -2.9313, -2.8542, -2.8515, -2.7844,\n",
            "         -2.9038, -2.9286]], grad_fn=<LogSoftmaxBackward0>)\n"
          ]
        }
      ]
    },
    {
      "cell_type": "markdown",
      "source": [
        "**Preparing for Training**\n",
        "- 네트워크의 출력으로, 가장 확률이 높은 카테고리 이름(언어)과 카테고리 번호 반환"
      ],
      "metadata": {
        "id": "XkMtnD4dAbU3"
      }
    },
    {
      "cell_type": "code",
      "source": [
        "def categoryFromOutput(output):\n",
        "  top_n, top_i = output.topk(1) # tensor의 가장 큰 값 및 주소\n",
        "  category_i = top_i[0].item() # tensor에서 정수 값으로 변환\n",
        "  return all_categories[category_i], category_i\n",
        "\n",
        "print('- guess based on the output:', categoryFromOutput(output))"
      ],
      "metadata": {
        "colab": {
          "base_uri": "https://localhost:8080/"
        },
        "id": "D3mIVCBLAi-9",
        "outputId": "03814e81-fc1b-4182-f581-2e0124b7763c"
      },
      "execution_count": 14,
      "outputs": [
        {
          "output_type": "stream",
          "name": "stdout",
          "text": [
            "- guess based on the output: ('Dutch', 0)\n"
          ]
        }
      ]
    },
    {
      "cell_type": "code",
      "source": [
        "import random\n",
        "\n",
        "def randomChoice(l):\n",
        "  return l[random.randint(0, len(l) - 1)]\n",
        "\n",
        "def randomTrainingExample():\n",
        "  category = randomChoice(all_categories)\n",
        "  line = randomChoice(category_lines[category])\n",
        "  category_tensor = torch.tensor([all_categories.index(category)], dtype=torch.long)\n",
        "  line_tensor = lineToTensor(line)\n",
        "  return category, line, category_tensor, line_tensor\n",
        "\n",
        "for i in range(10):\n",
        "  category, line, category_tensor, line_tensor = randomTrainingExample()\n",
        "  print('category =', category, '/ line =', line)"
      ],
      "metadata": {
        "colab": {
          "base_uri": "https://localhost:8080/"
        },
        "id": "e47QapceYqMt",
        "outputId": "939f7322-a444-4ae1-8cd8-391625a7963e"
      },
      "execution_count": 15,
      "outputs": [
        {
          "output_type": "stream",
          "name": "stdout",
          "text": [
            "category = Dutch / line = Bueren\n",
            "category = Dutch / line = Marquering\n",
            "category = Korean / line = Koo\n",
            "category = Dutch / line = Romeijn\n",
            "category = German / line = Koenig\n",
            "category = Russian / line = Awtaeff\n",
            "category = Czech / line = Skwor\n",
            "category = Czech / line = Piskach\n",
            "category = Irish / line = Coilean\n",
            "category = Chinese / line = Mah\n"
          ]
        }
      ]
    },
    {
      "cell_type": "markdown",
      "source": [
        "**Training the Network**\n",
        "- RNN의 마지막 계층이 `nn.LogSoftmax` 이므로 loss function으로 `nn.NLLLoss`가 적합함"
      ],
      "metadata": {
        "id": "RTozWKkKafKS"
      }
    },
    {
      "cell_type": "code",
      "source": [
        "criterion = nn.NLLLoss()"
      ],
      "metadata": {
        "id": "FWb1K6mWgi3K"
      },
      "execution_count": 16,
      "outputs": []
    },
    {
      "cell_type": "markdown",
      "source": [
        "- Training loop:\n",
        "  1. input과 target tensors 생성\n",
        "  2. zeroed initial hidden state 생성\n",
        "  3. forward pass: 각 문자 읽고 다음 문자를 위해 hidden state 유지\n",
        "  4. target과 최종 output 비교\n",
        "  5. backward pass: backprop\n",
        "  6. output과 loss 출력"
      ],
      "metadata": {
        "id": "1IUjHMBagnEE"
      }
    },
    {
      "cell_type": "code",
      "source": [
        "learning_rate = 0.005\n",
        "\n",
        "def train(category_tensor, line_tensor):\n",
        "  hidden = rnn.initHidden()\n",
        "\n",
        "  rnn.zero_grad() # initalize\n",
        "\n",
        "  # 들어온 이름에 대해 forward pass 진행\n",
        "  for i in range(line_tensor.size()[0]):\n",
        "    output, hidden = rnn(line_tensor[i], hidden)\n",
        "  \n",
        "  # backward pass 진행\n",
        "  loss = criterion(output, category_tensor)\n",
        "  loss.backward()\n",
        "\n",
        "  # optimization: gradient descent\n",
        "  # 매개변수의 gradient에 learning rate를 곱해서 그 매개변수의 값에 더함\n",
        "  # RNN은 각 스텝마다 같은 매개변수 W, b를 사용하기 때문에 backprop이 진행되며 모든 스텝에 걸쳐 매개변수의 값이 합산됨\n",
        "  # 이렇게 update 된 가중치는 forward pass 동안에는 모든 스텝에 동일한 가중치로 적용됨\n",
        "  for p in rnn.parameters():\n",
        "    p.data.add_(p.grad.data, alpha=-learning_rate)\n",
        "  \n",
        "  return output, loss.item()"
      ],
      "metadata": {
        "id": "uUFNoCQkcYW0"
      },
      "execution_count": 19,
      "outputs": []
    },
    {
      "cell_type": "markdown",
      "source": [
        "- 예시 데이터 사용하여 실행"
      ],
      "metadata": {
        "id": "XgrdoH31e8Y6"
      }
    },
    {
      "cell_type": "code",
      "source": [
        "import time\n",
        "import math\n",
        "\n",
        "n_iters = 100000\n",
        "print_every = 5000\n",
        "plot_every = 1000\n",
        "\n",
        "# 도식화를 위한 loss 추적\n",
        "current_loss = 0\n",
        "all_losses = []\n",
        "\n",
        "def timeSince(since):\n",
        "  now = time.time()\n",
        "  s = now - since\n",
        "  m = math.floor(s / 60)\n",
        "  s -= m * 60\n",
        "  return '%dm %ds' % (m, s)\n",
        "\n",
        "start = time.time()\n",
        "\n",
        "for iter in range(1, n_iters + 1):\n",
        "  category, line, category_tensor, line_tensor = randomTrainingExample() # train data random select\n",
        "  output, loss = train(category_tensor, line_tensor) # RNN\n",
        "  current_loss += loss\n",
        "\n",
        "  # iter 숫자, loss, 이름, 추측 화면 출력\n",
        "  if iter % print_every == 0:\n",
        "    guess, guess_i = categoryFromOutput(output)\n",
        "    correct = '✓' if guess == category else '✗ (%s)' % category\n",
        "    print('%d %d%% (%s) %.4f %s / %s %s' % (iter, iter / n_iters * 100, timeSince(start), loss, line, guess, correct))\n",
        "\n",
        "  # 현재 평균 loss을 전체 loss 리스트에 추가\n",
        "  if iter % plot_every == 0:\n",
        "    all_losses.append(current_loss / plot_every)\n",
        "    current_loss = 0"
      ],
      "metadata": {
        "colab": {
          "base_uri": "https://localhost:8080/"
        },
        "id": "nV8JD965fFXy",
        "outputId": "266f387a-7144-4088-9ad6-99a3e04a04c2"
      },
      "execution_count": 20,
      "outputs": [
        {
          "output_type": "stream",
          "name": "stdout",
          "text": [
            "5000 5% (0m 4s) 0.2791 Stavropoulos / Greek ✓\n",
            "10000 10% (0m 9s) 2.5282 Fleming / German ✗ (Scottish)\n",
            "15000 15% (0m 14s) 0.0568 Haritopoulos / Greek ✓\n",
            "20000 20% (0m 19s) 4.3629 Fabian / Irish ✗ (Polish)\n",
            "25000 25% (0m 24s) 1.4486 Belikin / Russian ✓\n",
            "30000 30% (0m 28s) 4.8731 Fabian / Irish ✗ (Polish)\n",
            "35000 35% (0m 33s) 0.0551 Sniegowski / Polish ✓\n",
            "40000 40% (0m 39s) 2.3179 Suero / Portuguese ✗ (Spanish)\n",
            "45000 45% (0m 44s) 2.7623 Shaw / Chinese ✗ (Scottish)\n",
            "50000 50% (0m 49s) 0.4409 Iwasa / Japanese ✓\n",
            "55000 55% (0m 53s) 0.6402 Kaibara / Japanese ✓\n",
            "60000 60% (0m 58s) 1.6552 Polites / Portuguese ✗ (Greek)\n",
            "65000 65% (1m 3s) 1.2110 Ybarra / Spanish ✓\n",
            "70000 70% (1m 8s) 2.2455 Santana / Spanish ✗ (Portuguese)\n",
            "75000 75% (1m 13s) 0.6338 Jong / Korean ✓\n",
            "80000 80% (1m 21s) 0.5150 Chew / Chinese ✓\n",
            "85000 85% (1m 25s) 0.0653 Ryjenkov / Russian ✓\n",
            "90000 90% (1m 30s) 1.3464 Accardo / Portuguese ✗ (Italian)\n",
            "95000 95% (1m 35s) 4.2124 Gaudin / Irish ✗ (English)\n",
            "100000 100% (1m 40s) 0.2265 Ly / Vietnamese ✓\n"
          ]
        }
      ]
    },
    {
      "cell_type": "markdown",
      "source": [
        "**Plotting the Results**"
      ],
      "metadata": {
        "id": "vrv2Ji4DhLw-"
      }
    },
    {
      "cell_type": "code",
      "source": [
        "import matplotlib.pyplot as plt\n",
        "import matplotlib.ticker as ticker\n",
        "\n",
        "plt.figure()\n",
        "plt.plot(all_losses)"
      ],
      "metadata": {
        "colab": {
          "base_uri": "https://localhost:8080/",
          "height": 283
        },
        "id": "usv2uz-vhOUq",
        "outputId": "433ce9e4-64ae-4419-d9fb-25ae6490e6f1"
      },
      "execution_count": null,
      "outputs": [
        {
          "output_type": "execute_result",
          "data": {
            "text/plain": [
              "[<matplotlib.lines.Line2D at 0x7f2e335e9100>]"
            ]
          },
          "metadata": {},
          "execution_count": 16
        },
        {
          "output_type": "display_data",
          "data": {
            "text/plain": [
              "<Figure size 432x288 with 1 Axes>"
            ],
            "image/png": "[encoded data removed]"
          },
          "metadata": {
            "needs_background": "light"
          }
        }
      ]
    },
    {
      "cell_type": "markdown",
      "source": [
        "**Evaluating the Results**\n",
        "- 네트워크가 다른 카테고리에서 얼마나 잘 작동하는지 보기 위해 모든 실제 언어(행)가 네트워크에서 어떤 언어로 추측(열)되는지 나타내는 confusion matrix 생성"
      ],
      "metadata": {
        "id": "d-tYAd3OhV_O"
      }
    },
    {
      "cell_type": "code",
      "source": [
        "confusion = torch.zeros(n_categories, n_categories)\n",
        "n_confusion = 10000\n",
        "\n",
        "def evaluate(line_tensor):\n",
        "  hidden = rnn.initHidden()\n",
        "\n",
        "  for i in range(line_tensor.size()[0]):\n",
        "    output, hidden = rnn(line_tensor[i], hidden)\n",
        "  \n",
        "  return output\n",
        "\n",
        "# 예시들 중 어떤 것이 정확하게 예측되었는지 기록\n",
        "for i in range(n_confusion):\n",
        "  category, line, category_tensor, line_tensor = randomTrainingExample()\n",
        "  output = evaluate(line_tensor)\n",
        "  guess, guess_i = categoryFromOutput(output)\n",
        "  category_i = all_categories.index(category)\n",
        "  confusion[category_i][guess_i] += 1\n",
        "\n",
        "# 모든 행을 합계로 나누어 정규화\n",
        "for i in range(n_categories):\n",
        "  confusion[i] = confusion[i] / confusion[i].sum()\n",
        "\n",
        "fig = plt.figure()\n",
        "ax = fig.add_subplot(111)\n",
        "cax = ax.matshow(confusion.numpy())\n",
        "fig.colorbar(cax)\n",
        "\n",
        "ax.set_xticklabels([''] + all_categories, rotation=90)\n",
        "ax.set_yticklabels([''] + all_categories)\n",
        "\n",
        "ax.xaxis.set_major_locator(ticker.MultipleLocator(1))\n",
        "ax.yaxis.set_major_locator(ticker.MultipleLocator(1))\n",
        "\n",
        "plt.show()"
      ],
      "metadata": {
        "colab": {
          "base_uri": "https://localhost:8080/",
          "height": 320
        },
        "id": "yeEy0N6gh-rA",
        "outputId": "62e945dd-26ad-42f0-8c37-724e6bde14ec"
      },
      "execution_count": null,
      "outputs": [
        {
          "output_type": "display_data",
          "data": {
            "text/plain": [
              "<Figure size 432x288 with 2 Axes>"
            ],
            "image/png": "[encoded data removed]"
          },
          "metadata": {
            "needs_background": "light"
          }
        }
      ]
    },
    {
      "cell_type": "markdown",
      "source": [
        "**Running on User Input**"
      ],
      "metadata": {
        "id": "A75ZZgOLjDQf"
      }
    },
    {
      "cell_type": "code",
      "source": [
        "def predict(input_line, n_predictions=3):\n",
        "  print('\\n> %s' % input_line)\n",
        "  with torch.no_grad():\n",
        "    output = evaluate(lineToTensor(input_line))\n",
        "\n",
        "    # get top N categories\n",
        "    topv, topi = output.topk(n_predictions, 1, True)\n",
        "    predictions = []\n",
        "\n",
        "    for i in range(n_predictions):\n",
        "      value = topv[0][i].item()\n",
        "      category_index = topi[0][i].item()\n",
        "      print('(%.2f) %s' % (value, all_categories[category_index]))\n",
        "      predictions.append([value, all_categories[category_index]])\n",
        "\n",
        "predict('Dovesky')\n",
        "predict('Jackson')\n",
        "predict('Satoshi')"
      ],
      "metadata": {
        "colab": {
          "base_uri": "https://localhost:8080/"
        },
        "id": "vWEG55ImjGOj",
        "outputId": "489c2a7a-54e6-49bf-dc96-c42c9185b1b6"
      },
      "execution_count": null,
      "outputs": [
        {
          "output_type": "stream",
          "name": "stdout",
          "text": [
            "\n",
            "> Dovesky\n",
            "(-0.92) Czech\n",
            "(-1.00) Russian\n",
            "(-2.65) English\n",
            "\n",
            "> Jackson\n",
            "(-0.36) Scottish\n",
            "(-2.14) Greek\n",
            "(-2.30) English\n",
            "\n",
            "> Satoshi\n",
            "(-1.12) Japanese\n",
            "(-1.26) Arabic\n",
            "(-1.39) Italian\n"
          ]
        }
      ]
    }
  ]
}